{
 "cells": [
  {
   "cell_type": "code",
   "execution_count": 1,
   "metadata": {},
   "outputs": [],
   "source": [
    "## 0.文字列の逆順"
   ]
  },
  {
   "cell_type": "code",
   "execution_count": 7,
   "metadata": {},
   "outputs": [
    {
     "data": {
      "text/plain": [
       "'dessert'"
      ]
     },
     "execution_count": 7,
     "metadata": {},
     "output_type": "execute_result"
    }
   ],
   "source": [
    "'stressed'[-1:0:-1]"
   ]
  },
  {
   "cell_type": "code",
   "execution_count": 14,
   "metadata": {},
   "outputs": [
    {
     "name": "stdout",
     "output_type": "stream",
     "text": [
      "desserts\n"
     ]
    }
   ],
   "source": [
    "s = 'stressed'\n",
    "r_s = ''\n",
    "for c in list(s):\n",
    "    r_s = c + r_s\n",
    "print(r_s)"
   ]
  },
  {
   "cell_type": "code",
   "execution_count": 16,
   "metadata": {},
   "outputs": [],
   "source": [
    "## 01. 「パタトクカシーー」"
   ]
  },
  {
   "cell_type": "code",
   "execution_count": 19,
   "metadata": {},
   "outputs": [
    {
     "name": "stdout",
     "output_type": "stream",
     "text": [
      "パトカー\n"
     ]
    }
   ],
   "source": [
    "s = 'パタトクカシーー'\n",
    "print(s[0] + s[2] + s[4] + s[6])"
   ]
  },
  {
   "cell_type": "code",
   "execution_count": 20,
   "metadata": {},
   "outputs": [],
   "source": [
    "## 02. 「パトカー」＋「タクシー」＝「パタトクカシーー」"
   ]
  },
  {
   "cell_type": "code",
   "execution_count": 25,
   "metadata": {},
   "outputs": [
    {
     "name": "stdout",
     "output_type": "stream",
     "text": [
      "パタトクカシーー\n"
     ]
    }
   ],
   "source": [
    "s1 = 'パトカー'\n",
    "s2 = 'タクシー'\n",
    "s12 = ''\n",
    "for c1, c2 in zip(s1, s2):\n",
    "    s12 = s12 + c1 + c2\n",
    "print(s12)"
   ]
  },
  {
   "cell_type": "code",
   "execution_count": 26,
   "metadata": {},
   "outputs": [],
   "source": [
    "## 03. 円周率"
   ]
  },
  {
   "cell_type": "code",
   "execution_count": 39,
   "metadata": {},
   "outputs": [
    {
     "name": "stdout",
     "output_type": "stream",
     "text": [
      "[3, 1, 4, 1, 6, 9, 2, 7, 5, 3, 5, 8, 9, 7, 9]\n"
     ]
    }
   ],
   "source": [
    "sentence = 'Now I need a drink, alcoholic of course, after the heavy lectures involving quantum mechanics.'\n",
    "sentence = sentence[0:-1] # remove '.' of sentence's end\n",
    "words = sentence.split()\n",
    "word_len_list = list(map(len, words))\n",
    "print(word_len_list)"
   ]
  },
  {
   "cell_type": "code",
   "execution_count": 40,
   "metadata": {},
   "outputs": [],
   "source": [
    "## 04. 元素記号"
   ]
  },
  {
   "cell_type": "code",
   "execution_count": 43,
   "metadata": {},
   "outputs": [
    {
     "name": "stdout",
     "output_type": "stream",
     "text": [
      "{'H': 0, 'He': 1, 'Li': 2, 'Be': 3, 'B': 4, 'C': 5, 'N': 6, 'O': 7, 'F': 8, 'Ne': 9, 'Na': 10, 'Mi': 11, 'Al': 12, 'Si': 13, 'P': 14, 'S': 15, 'Cl': 16, 'Ar': 17, 'K': 18, 'Ca': 19}\n"
     ]
    }
   ],
   "source": [
    "sentence = 'Hi He Lied Because Boron Could Not Oxidize Fluorine. New Nations Might Also Sign Peace Security Clause. Arthur King Can.'\n",
    "sentence = sentence[0:-1] # remove '.' of sentence's end\n",
    "words = sentence.split()\n",
    "keyword_index_map = dict()\n",
    "for index, word in enumerate(words):\n",
    "    keyword =''\n",
    "    if index in (0, 4, 5, 6, 7, 8, 14, 15, 18):\n",
    "        keyword = word[:1]\n",
    "    else:\n",
    "        keyword = word[:2]\n",
    "    keyword_index_map[keyword] = index\n",
    "print(keyword_index_map)"
   ]
  },
  {
   "cell_type": "code",
   "execution_count": 44,
   "metadata": {},
   "outputs": [],
   "source": [
    "## 05. n-gram"
   ]
  },
  {
   "cell_type": "code",
   "execution_count": 50,
   "metadata": {},
   "outputs": [
    {
     "name": "stdout",
     "output_type": "stream",
     "text": [
      "文字bi-gram\n",
      "['I ', ' a', 'am', 'm ', ' a', 'an', 'n ', ' N', 'NL', 'LP', 'Pe', 'er']\n",
      "単語bi-gram\n",
      "[['I', 'am'], ['am', 'an'], ['an', 'NLPer']]\n"
     ]
    }
   ],
   "source": [
    "def n_gram(target_seq, n):\n",
    "    ret = []\n",
    "    for i in range(0, len(target_seq)-n+1):\n",
    "        ret.append(target_seq[i:i+n])\n",
    "    return ret\n",
    "\n",
    "sentence = 'I am an NLPer'\n",
    "\n",
    "print('文字bi-gram')\n",
    "char_bi_gram = n_gram(sentence, 2)\n",
    "print(char_bi_gram)\n",
    "\n",
    "print('単語bi-gram')\n",
    "words = sentence.split()\n",
    "word_bi_gram = n_gram(words, 2)\n",
    "print(word_bi_gram)"
   ]
  },
  {
   "cell_type": "code",
   "execution_count": 51,
   "metadata": {},
   "outputs": [],
   "source": [
    "## 06. 集合"
   ]
  },
  {
   "cell_type": "code",
   "execution_count": 54,
   "metadata": {},
   "outputs": [
    {
     "name": "stdout",
     "output_type": "stream",
     "text": [
      "和集合: {'ar', 'ap', 'ph', 'is', 'di', 'gr', 'se', 'ad', 'pa', 'ra', 'ag'}\n",
      "積集合: {'ap', 'ar', 'ra', 'pa'}\n",
      "差集合: {'di', 'se', 'is', 'ad'}\n",
      "'se' is included in x? :  True\n",
      "'se' is included in y? :  False\n"
     ]
    }
   ],
   "source": [
    "sentence1 = 'paraparaparadise'\n",
    "sentence2 = 'paragraph'\n",
    "# 文字bi-gram集合\n",
    "x = set(n_gram(sentence1, 2))\n",
    "y = set(n_gram(sentence2, 2))\n",
    "# x と y の 和集合\n",
    "union_x_y = x | y\n",
    "print('和集合:', union_x_y)\n",
    "# x と y の 積集合\n",
    "intersection_x_y = x & y\n",
    "print('積集合:', intersection_x_y)\n",
    "# x と y の 差集合\n",
    "diffset_x_y = x - y\n",
    "print('差集合:', diffset_x_y)\n",
    "# se が x,y集合に含まれるか?\n",
    "print(\"'se' is included in x? : \", 'se' in x)\n",
    "print(\"'se' is included in y? : \", 'se' in y)"
   ]
  },
  {
   "cell_type": "code",
   "execution_count": 55,
   "metadata": {},
   "outputs": [],
   "source": [
    "## 07. テンプレートによる文生成"
   ]
  },
  {
   "cell_type": "code",
   "execution_count": 57,
   "metadata": {},
   "outputs": [
    {
     "name": "stdout",
     "output_type": "stream",
     "text": [
      "12時の気温は22.4\n"
     ]
    }
   ],
   "source": [
    "def generate_sentence(x, y, z):\n",
    "    return f'{x}時の{y}は{z}'\n",
    "\n",
    "print(generate_sentence(12, '気温', 22.4))"
   ]
  },
  {
   "cell_type": "code",
   "execution_count": 58,
   "metadata": {},
   "outputs": [],
   "source": [
    "# 08. 暗号文"
   ]
  },
  {
   "cell_type": "code",
   "execution_count": 78,
   "metadata": {},
   "outputs": [
    {
     "name": "stdout",
     "output_type": "stream",
     "text": [
      "original: I have a pen.\n",
      "cipher  : I szev z kvm.\n",
      "decipher: I have a pen.\n"
     ]
    }
   ],
   "source": [
    "def cipher(text):\n",
    "    cipherd_text = ''\n",
    "    for c in text:\n",
    "        cipherd_c = c\n",
    "        c_asciicode = ord(c)\n",
    "        if ord('a') <= c_asciicode <= ord('z'):\n",
    "            cipherd_c = chr(219 - c_asciicode)\n",
    "        cipherd_text = cipherd_text + cipherd_c\n",
    "    return cipherd_text\n",
    "\n",
    "text = 'I have a pen.'\n",
    "print('original:', text)\n",
    "\n",
    "cipherd_text = cipher(text)\n",
    "print('cipher  :', cipherd_text)\n",
    "\n",
    "decipherd_text = cipher(cipherd_text)\n",
    "print('decipher:', decipherd_text)"
   ]
  },
  {
   "cell_type": "code",
   "execution_count": 77,
   "metadata": {},
   "outputs": [],
   "source": [
    "# 09. Typoglycemia"
   ]
  },
  {
   "cell_type": "code",
   "execution_count": 118,
   "metadata": {},
   "outputs": [
    {
     "name": "stdout",
     "output_type": "stream",
     "text": [
      "original    : I couldn't believe that I could actually understand what I was reading : the phenomenal power of the human mind.\n",
      "typoglycemia: I cln'odut beielve that I colud aatlcluy uetnadsrnd what I was rinedag : the peaoennhml power of the hamun mind.\n"
     ]
    }
   ],
   "source": [
    "import random\n",
    "def shuffle(text):\n",
    "    kc = dict()\n",
    "    for c in text:\n",
    "        kc[random.random()] = c\n",
    "    k_list = list(kc)\n",
    "    k_list.sort()\n",
    "    new_text = ''\n",
    "    for k in k_list:\n",
    "        new_text = new_text + kc[k]\n",
    "    return new_text\n",
    "\n",
    "def make_typoglycemia(sentence):\n",
    "    words = sentence[:-1].split()\n",
    "    new_words =[]\n",
    "    for word in words:\n",
    "        if len(word) <= 4:\n",
    "            new_words.append(word)\n",
    "        else:\n",
    "            new_word_inter = shuffle(word[1:-1])\n",
    "            new_word = word[0] + new_word_inter + word[-1]\n",
    "            new_words.append(new_word)\n",
    "    new_sentence = ' '.join(new_words)\n",
    "    new_sentence += '.'\n",
    "    return new_sentence\n",
    "\n",
    "\n",
    "sentence = \"\"\"I couldn't believe that I could actually understand what I was reading : the phenomenal power of the human mind.\"\"\"\n",
    "print('original    :', sentence)\n",
    "\n",
    "typoglycemia_sentence = make_typoglycemia(sentence)\n",
    "print('typoglycemia:', typoglycemia_sentence)\n"
   ]
  },
  {
   "cell_type": "code",
   "execution_count": null,
   "metadata": {},
   "outputs": [],
   "source": []
  },
  {
   "cell_type": "code",
   "execution_count": null,
   "metadata": {},
   "outputs": [],
   "source": []
  }
 ],
 "metadata": {
  "kernelspec": {
   "display_name": "Python 3",
   "language": "python",
   "name": "python3"
  },
  "language_info": {
   "codemirror_mode": {
    "name": "ipython",
    "version": 3
   },
   "file_extension": ".py",
   "mimetype": "text/x-python",
   "name": "python",
   "nbconvert_exporter": "python",
   "pygments_lexer": "ipython3",
   "version": "3.7.3"
  }
 },
 "nbformat": 4,
 "nbformat_minor": 2
}
